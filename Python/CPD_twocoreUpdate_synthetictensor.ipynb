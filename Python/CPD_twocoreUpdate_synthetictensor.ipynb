{
 "cells": [
  {
   "cell_type": "markdown",
   "metadata": {},
   "source": [
    "**CPD with Two core updates**\n",
    "    \n",
    "\n",
    "Anh-Huy Phan"
   ]
  },
  {
   "cell_type": "code",
   "execution_count": 1,
   "metadata": {},
   "outputs": [],
   "source": [
    "import numpy as np\n",
    "from tensorly.tenalg import khatri_rao\n",
    "from tensorly.tenalg.core_tenalg import mttkrp\n",
    "\n",
    "from tensorly.random import random_cp\n",
    "import matplotlib.pyplot as plt\n",
    "from tensorly.decomposition._cp import initialize_cp\n",
    "from tensorly.cp_tensor import (\n",
    "    CPTensor,\n",
    "    unfolding_dot_khatri_rao,\n",
    "    cp_norm,\n",
    "    cp_normalize,\n",
    "    validate_cp_rank,\n",
    "    cp_to_tensor\n",
    ")\n",
    "from scipy.sparse.linalg import svds\n",
    "import time\n",
    "from tqdm import tqdm\n",
    "\n",
    "import tensorly.decomposition\n"
   ]
  },
  {
   "cell_type": "code",
   "execution_count": 43,
   "metadata": {},
   "outputs": [],
   "source": [
    "#-------------------------------------------------------------------------------\n",
    "# ADMM routine\n",
    "#-------------------------------------------------------------------------------\n",
    " \n",
    "import numpy as np\n",
    "import scipy.linalg\n",
    "import scipy.sparse.linalg\n",
    "\n",
    "def linreg_krp(Ymn, Phi, rho, szXnm, X0,maxiters,T=None, verbose = False):\n",
    "    # ADMM\n",
    "    #   solve min||Y-Phi*Z^T||^2_f  \n",
    "    #   s.t. Z= X \n",
    "    #   \"\"\"\n",
    "    # szY(1) = [I1 I2 R]\n",
    "    R = szXnm[2]\n",
    "    Q = scipy.linalg.inv(Phi.T @ Phi + rho * np.eye(R))\n",
    "    B = Ymn.T @ Phi\n",
    "    \n",
    "    if T is None:\n",
    "      T = np.zeros([szXnm[0]*szXnm[1],R])\n",
    "      \n",
    "    normY = np.linalg.norm(Ymn,'fro')**2\n",
    "    \n",
    "    X = X0 \n",
    "    Z = X\n",
    "    f0 = np.linalg.norm(Ymn - Phi @ X.T, 'fro')**2/ normY\n",
    "    loss_history = [] \n",
    "    \n",
    "    primal_residual_history = []\n",
    "    # Define the parameters of the rule\n",
    "    mu = 10 # Residual ratio threshold\n",
    "    tau = 2 # Rho scaling factor\n",
    "\n",
    "    \n",
    "    for kiter in range(maxiters):\n",
    "        Z_old = Z\n",
    "          \n",
    "        # Update Z\n",
    "        Z = np.matmul(B + rho * (X + T), Q)\n",
    "        # print(Z)\n",
    "        \n",
    "        # Update X\n",
    "        D = Z - T\n",
    "        D = D.reshape(szXnm[1],szXnm[0],szXnm[2])\n",
    "        F1 = np.zeros((szXnm[0], R))\n",
    "        F2 = np.zeros((szXnm[1], R)) \n",
    "        S = np.zeros((R))\n",
    "        for r in range(R):\n",
    "          u, s, v = svds(D[:, :, r].T, k=1)\n",
    "        \n",
    "          F1[:, r:r+1] = u\n",
    "          F2[:, r:r+1] = v.T\n",
    "          S[r] = s\n",
    "          #X[:, r:r+1] = np.kron(v.T, u) * s\n",
    "        \n",
    "        X = khatri_rao([F2,F1 @ np.diag(S)])\n",
    "\n",
    "        # update T\n",
    "        T = T + X - Z\n",
    "        \n",
    "        # Compute the objective function value\n",
    "        loss = np.linalg.norm(Ymn - Phi @ Z.T, 'fro')**2/ normY # f(Z) + i(X) \n",
    "        \n",
    "        # Compute the primal residual\n",
    "        r = Z - X\n",
    "        # dual residual\n",
    "        s = rho * (Z - Z_old)\n",
    "        # Compute the primal and dual residual norms\n",
    "        norm_r = np.linalg.norm(r,'fro')\n",
    "        norm_s = np.linalg.norm(s,'fro')  \n",
    "\n",
    "        loss_history.append(loss)\n",
    "        primal_residual_history.append(norm_r/ np.linalg.norm(Z,'fro'))\n",
    " \n",
    "        if verbose== True:\n",
    "            print(f'kiter {kiter} | f = {loss} | d(Z,X) {primal_residual_history[-1]} | rho {rho}') \n",
    "        \n",
    "        if (kiter>5) and (loss<=1e-6) and (primal_residual_history[-1]<=1e-5):\n",
    "            break \n",
    "        \n",
    "    return X, Z, F1, F2,S,loss_history, primal_residual_history, T, rho\n"
   ]
  },
  {
   "cell_type": "code",
   "execution_count": 3,
   "metadata": {},
   "outputs": [],
   "source": [
    "def solver(Y,R,Y_hat,rho,maxoutiters,maxiters,min_rho_stable):\n",
    "    # maxoutiters = 100\n",
    "    # rho = 1e1\n",
    "    # maxiters = 10\n",
    "    modes = len(Y.shape)\n",
    "    szY = np.array(Y.shape) \n",
    " \n",
    "    normY = np.linalg.norm(Y.reshape(-1))**2\n",
    "    mainloss_history = []\n",
    "\n",
    "    rho_stable = rho\n",
    "    counter = 0\n",
    "    flag = 0\n",
    "\n",
    "    for kiter in range(maxoutiters):\n",
    "    \n",
    "        for n in range(modes-1):\n",
    "            m = n+1 # can change the mode m \n",
    "                           \n",
    "            modes_1 = np.sort([n, m])\n",
    "            modes_2 = np.sort(np.setdiff1d(np.arange(modes), modes_1))\n",
    "             \n",
    "            sz2 = np.prod(szY[modes_2])\n",
    "            sz1 = np.prod(szY[modes_1])\n",
    "            \n",
    "            # unfolding mode-(n,m)    \n",
    "            Y_nm = np.transpose(Y, axes = [*modes_2, *modes_1])\n",
    "            # print(Y_nm.shape)\n",
    "            Y_nm = Y_nm.reshape(sz2, sz1,  order = 'F')\n",
    "            \n",
    "            szXnm = [szY[modes_1[0]], szY[modes_1[1]], R]\n",
    "    \n",
    "            # initialize X0\n",
    "            U_in = Y_hat.factors[modes_1[0]].copy()\n",
    "            V_in = Y_hat.factors[modes_1[1]].copy()\n",
    "            X0 = khatri_rao([V_in, U_in@np.diag(Y_hat.weights)])\n",
    "    \n",
    "            # Compute Phi\n",
    "            Factorx2 = [Y_hat.factors[i] for i in modes_2[::-1]]\n",
    "            Phi = khatri_rao(Factorx2)                      \n",
    "    \n",
    "            # solve sub-problem\n",
    "            fcurr = np.linalg.norm(Y_nm - Phi @ X0.T, 'fro')**2/ normY\n",
    "\n",
    "            while 1:\n",
    "                X, Z, Unew, Vnew, Snew, loss_history, dZ, T , rhonew = linreg_krp(Y_nm, Phi, rho, szXnm, X0,maxiters,T=None,verbose = False)\n",
    "\n",
    "                if loss_history[-1]> fcurr*10 :\n",
    "                    # fail case\n",
    "                    rho = rho*1.1\n",
    "                else:\n",
    "                    break\n",
    "                \n",
    "                \n",
    "            \n",
    "            # reject the update if the loss increases\n",
    "            # if (kiter>2) and (loss_history[-1]>mainloss_history[-1]+np.abs(mainloss_history[-2]-mainloss_history[-1])*.2):\n",
    "            #     continue \n",
    "            # else:\n",
    "            Y_hat.factors[modes_1[0]] = Unew\n",
    "            Y_hat.factors[modes_1[1]] = Vnew\n",
    "            Y_hat.weights = Snew                \n",
    "    \n",
    "            print(f'kiter {kiter: 2.2f} | f = {loss_history[-1]:2.4e} | d(Z,X) {dZ[-1]:2.4e} |  rho {rho_stable: .4e}')\n",
    "\n",
    "            mainloss_history.append(loss_history[-1])\n",
    "\n",
    "             # If the loss function value is smaller than the previous 10 values, increment the counter by one and set the flag to True\n",
    "            if (len(mainloss_history)>5) and (kiter > 1) and (loss_history[-1] <= np.min(mainloss_history[-5:])):\n",
    "                counter += 1\n",
    "                flag = 1\n",
    "            else:\n",
    "                counter = 0\n",
    "                flag = 0\n",
    "    \n",
    "            # If the counter reaches 10 and the error is smaller than 1e-6, reduce rho by a factor of 0.9 or 0.95, and reset the counter to zero\n",
    "            if (counter == 2) and (dZ[-1] < 1e-6):\n",
    "                rho = rho * 0.95\n",
    "                counter = 0\n",
    "            \n",
    "            # If the loss function value is larger than the previous value, reduce the counter by one\n",
    "            if (len(mainloss_history)>2) and (kiter > 1) and (loss_history[-1] > mainloss_history[-2]):\n",
    "                counter -= 1\n",
    "            \n",
    "            # If the counter is negative, increase rho by a small amount (e.g., 0.1) until it reaches rho_stable, and reset the counter to zero\n",
    "            if counter < 0:\n",
    "                rho = min(rho + 0.1, rho_stable)\n",
    "                counter = 0\n",
    "            \n",
    "            # Update rho_stable to be the minimum of rho and rho_stable only when the flag is True\n",
    "            if flag == 1:\n",
    "                rho_stable = max(min_rho_stable,min(rho, rho_stable) )\n",
    "                \n",
    "        if (kiter > 5) and (mainloss_history[-1]<=1e-6) and (dZ[-1]<=1e-4):\n",
    "            break\n",
    " \n",
    "    return Y_hat, mainloss_history\n",
    "\n"
   ]
  },
  {
   "cell_type": "code",
   "execution_count": 4,
   "metadata": {},
   "outputs": [],
   "source": [
    "def cp_sensitivity(CPtensor):\n",
    " \n",
    "    N = len(CPtensor.factors)\n",
    "    CPtensor = tensorly.cp_tensor.cp_normalize(CPtensor)\n",
    "    Factors = [x @ np.diag(pow(CPtensor.weights,1/N)) for x in CPtensor.factors]\n",
    "    C = [x.T @ x  for x in Factors]\n",
    "    C = np.array(C)\n",
    "    sensitivity = 0\n",
    "    for n in range(N):\n",
    "        # Create a numpy array of numbers from 1 to N\n",
    "        array = np.arange(0, N)\n",
    "        \n",
    "        # Remove the element at index n-1\n",
    "        array = np.delete(array,n-1)\n",
    "        sensitivity = sensitivity+ np.trace(np.prod(C[array,:,:],axis = 0))\n",
    "        \n",
    "    return sensitivity"
   ]
  },
  {
   "cell_type": "markdown",
   "metadata": {},
   "source": [
    "**Generate tensors for CPD**"
   ]
  },
  {
   "cell_type": "code",
   "execution_count": 5,
   "metadata": {},
   "outputs": [],
   "source": [
    "R = 10\n",
    "szY = [8,8,8,8]\n",
    "szY = [15,16,17,18] \n",
    "szY = np.array(szY)\n",
    "\n",
    "N = len(szY)\n",
    "Factors = [np.random.randn(szY[n],R) for n in range(N)]\n",
    "#Factors = [np.random.rand(szY[n],R) for n in range(N)]\n",
    "\n",
    "weights_init = np.ones(R)\n",
    "Y_hat = CPTensor((weights_init, Factors))\n",
    "\n",
    "# Y is a tensor of rank R\n",
    "Y = cp_to_tensor(Y_hat) \n",
    " "
   ]
  },
  {
   "cell_type": "code",
   "execution_count": 13,
   "metadata": {},
   "outputs": [
    {
     "data": {
      "text/plain": [
       "array([1., 1., 1., 1., 1., 1., 1., 1., 1., 1.])"
      ]
     },
     "execution_count": 13,
     "metadata": {},
     "output_type": "execute_result"
    }
   ],
   "source": [
    "weights_init"
   ]
  },
  {
   "cell_type": "code",
   "execution_count": 7,
   "metadata": {},
   "outputs": [
    {
     "name": "stdout",
     "output_type": "stream",
     "text": [
      "9.949155284429223e-14\n",
      "1.0093364173272546e-13\n",
      "8.390666326139019e-14\n",
      "8.407550824863128e-14\n",
      "1.0090744753623562e-13\n",
      "9.931168993344486e-14\n"
     ]
    }
   ],
   "source": [
    "# CHECK two-modes unfoldings \n",
    "modes = len(Y.shape)\n",
    "szY = np.array(Y.shape)\n",
    "\n",
    "for n in range(N-1):\n",
    "    for m in range(n+1,N): \n",
    "        \n",
    "        modes_1 = np.sort([n, m])\n",
    "        modes_2 = np.sort(np.delete(np.arange(modes), modes_1))\n",
    "\n",
    "        #### Yt = (Uk kr Ui)(Uj kr U1)^T != n, m\n",
    "        sz2 = np.prod(szY[modes_2])\n",
    "        sz1 = np.prod(szY[modes_1])\n",
    "\n",
    "        # unfolding mode-(n,m)    \n",
    "        Y_nm = np.transpose(Y, axes = [*modes_2, *modes_1])\n",
    "        Y_nm = Y_nm.reshape(sz2, sz1,  order = 'F')\n",
    "\n",
    "        A = khatri_rao([Y_hat.factors[modes_1[1]], Y_hat.factors[modes_1[0]]])\n",
    "        Phi = khatri_rao([Y_hat.factors[modes_2[1]], Y_hat.factors[modes_2[0]]])\n",
    "\n",
    "        print(np.linalg.norm(Y_nm - Phi @ A.T))\n",
    "\n"
   ]
  },
  {
   "cell_type": "code",
   "execution_count": null,
   "metadata": {},
   "outputs": [
    {
     "name": "stdout",
     "output_type": "stream",
     "text": [
      "[[-0.03434214]\n",
      " [-0.26964548]\n",
      " [-0.31756154]\n",
      " [-0.14050226]\n",
      " [ 0.30607296]\n",
      " [ 0.00234671]\n",
      " [-0.11536258]\n",
      " [ 0.25391507]\n",
      " [-0.11483983]\n",
      " [ 0.14294504]\n",
      " [-0.22613826]\n",
      " [-0.49499221]\n",
      " [ 0.22197723]\n",
      " [-0.5001126 ]\n",
      " [-0.06995988]]\n",
      "kiter 0 | f = 1.99293205716498e-31 | d(Z,X) 3.704345544361504e-16 | rho 1.0\n"
     ]
    },
    {
     "name": "stderr",
     "output_type": "stream",
     "text": [
      "/var/folders/_j/_0pf83h53mj_4nr6vxqlgdxm0000gn/T/ipykernel_9088/3108543527.py:54: DeprecationWarning: Conversion of an array with ndim > 0 to a scalar is deprecated, and will error in future. Ensure you extract a single element from your array before performing this operation. (Deprecated NumPy 1.25.)\n",
      "  S[r] = s\n"
     ]
    },
    {
     "data": {
      "text/plain": [
       "[<matplotlib.lines.Line2D at 0x139512030>]"
      ]
     },
     "execution_count": 42,
     "metadata": {},
     "output_type": "execute_result"
    },
    {
     "name": "stderr",
     "output_type": "stream",
     "text": [
      "/opt/anaconda3/lib/python3.12/site-packages/IPython/core/events.py:82: UserWarning: Data has no positive values, and therefore cannot be log-scaled.\n",
      "  func(*args, **kwargs)\n"
     ]
    },
    {
     "data": {
      "image/png": "[encoded data removed]",
      "text/plain": [
       "<Figure size 640x480 with 1 Axes>"
      ]
     },
     "metadata": {},
     "output_type": "display_data"
    }
   ],
   "source": [
    "# Check solver for the subproblem\n",
    "\n",
    "n = 0\n",
    "m = 1\n",
    "\n",
    "modes_1 = np.sort([n, m])\n",
    "modes_2 = np.sort(np.setdiff1d(np.arange(modes), modes_1))\n",
    " \n",
    "sz2 = np.prod(szY[modes_2])\n",
    "sz1 = np.prod(szY[modes_1])\n",
    "\n",
    "# unfolding mode-(n,m)    \n",
    "Y_nm = np.transpose(Y, axes = [*modes_2, *modes_1])\n",
    "Y_nm = Y_nm.reshape(sz2, sz1,  order = 'F')\n",
    "\n",
    "szXnm = [szY[n], szY[m], R]\n",
    "\n",
    "# initialize X0\n",
    "U0 = Y_hat.factors[modes_1[0]].copy()\n",
    "V0 = Y_hat.factors[modes_1[1]].copy()\n",
    "X0 = khatri_rao([V0, U0@np.diag(Y_hat.weights)])\n",
    "# X0 = khatri_rao([V_in, U_in])\n",
    "\n",
    "Factorx2 = [Y_hat.factors[i] for i in modes_2[::-1]]\n",
    "Phi = khatri_rao(Factorx2)\n",
    "\n",
    "rho = 1e0\n",
    "maxiters = 100\n",
    "X, Z, F1, F2, S, f, dZ, T, rhonew = linreg_krp(Y_nm, Phi, rho, szXnm, X0,maxiters,T = None, verbose = True)\n",
    "\n",
    "plt.loglog(f)\n",
    "plt.loglog(dZ)\n",
    " \n"
   ]
  },
  {
   "cell_type": "markdown",
   "metadata": {},
   "source": [
    "**Initialize the decomposition**"
   ]
  },
  {
   "cell_type": "code",
   "execution_count": 25,
   "metadata": {},
   "outputs": [
    {
     "data": {
      "text/plain": [
       "[15, 16, 10]"
      ]
     },
     "execution_count": 25,
     "metadata": {},
     "output_type": "execute_result"
    }
   ],
   "source": [
    "szXnm"
   ]
  },
  {
   "cell_type": "code",
   "execution_count": 21,
   "metadata": {},
   "outputs": [],
   "source": [
    "mdic = {\"fac1\": Factors[0], \"fac2\": Factors[1], \"fac3\": Factors[2], \"fac4\": Factors[3], \"facx1\": Factorx2[0], \"facx2\": Factorx2[1], \"Phi\": Phi, \"Y\": Y}"
   ]
  },
  {
   "cell_type": "code",
   "execution_count": 22,
   "metadata": {},
   "outputs": [],
   "source": [
    "from scipy.io import savemat\n",
    "savemat(\"matlab_matrix.mat\", mdic)"
   ]
  },
  {
   "cell_type": "code",
   "execution_count": 46,
   "metadata": {},
   "outputs": [],
   "source": [
    "weights_init, factors_init = initialize_cp(Y, init='svd', rank=R)\n",
    "Y_hat = CPTensor((weights_init, factors_init))\n"
   ]
  },
  {
   "cell_type": "markdown",
   "metadata": {},
   "source": [
    "**Main Algorithm**\n"
   ]
  },
  {
   "cell_type": "code",
   "execution_count": 47,
   "metadata": {},
   "outputs": [
    {
     "name": "stdout",
     "output_type": "stream",
     "text": [
      "kiter  0.00 | f = 8.7468e-01 | d(Z,X) 1.5000e+00 |  rho  1.0000e-01\n",
      "kiter  0.00 | f = 8.2034e-01 | d(Z,X) 1.4396e+00 |  rho  1.0000e-01\n",
      "kiter  0.00 | f = 6.9833e-01 | d(Z,X) 1.2085e+00 |  rho  1.0000e-01\n",
      "kiter  1.00 | f = 3.6253e-01 | d(Z,X) 7.1724e-01 |  rho  1.0000e-01\n",
      "kiter  1.00 | f = 3.3260e-01 | d(Z,X) 7.1219e-01 |  rho  1.0000e-01\n",
      "kiter  1.00 | f = 2.4211e-01 | d(Z,X) 4.2048e-01 |  rho  1.0000e-01\n",
      "kiter  2.00 | f = 1.7553e-01 | d(Z,X) 5.5802e-01 |  rho  1.0000e-01\n",
      "kiter  2.00 | f = 1.4681e-01 | d(Z,X) 2.6829e-01 |  rho  1.0000e-01\n",
      "kiter  2.00 | f = 1.0621e-01 | d(Z,X) 1.5050e-01 |  rho  1.0000e-01\n",
      "kiter  3.00 | f = 7.0826e-02 | d(Z,X) 1.2329e-02 |  rho  1.0000e-01\n",
      "kiter  3.00 | f = 6.2900e-02 | d(Z,X) 1.9624e-02 |  rho  1.0000e-01\n",
      "kiter  3.00 | f = 6.1158e-02 | d(Z,X) 1.7520e-02 |  rho  1.0000e-01\n",
      "kiter  4.00 | f = 3.0105e-02 | d(Z,X) 1.4427e-02 |  rho  1.0000e-01\n",
      "kiter  4.00 | f = 1.8844e-02 | d(Z,X) 8.2816e-03 |  rho  1.0000e-01\n",
      "kiter  4.00 | f = 1.7183e-02 | d(Z,X) 9.2801e-03 |  rho  1.0000e-01\n",
      "kiter  5.00 | f = 1.7258e-02 | d(Z,X) 6.6517e-03 |  rho  1.0000e-01\n",
      "kiter  5.00 | f = 1.7095e-02 | d(Z,X) 7.9371e-03 |  rho  1.0000e-01\n",
      "kiter  5.00 | f = 1.6809e-02 | d(Z,X) 9.6213e-03 |  rho  1.0000e-01\n",
      "kiter  6.00 | f = 1.6928e-02 | d(Z,X) 6.7514e-03 |  rho  1.0000e-01\n",
      "kiter  6.00 | f = 1.6776e-02 | d(Z,X) 8.2068e-03 |  rho  1.0000e-01\n",
      "kiter  6.00 | f = 1.6511e-02 | d(Z,X) 9.8966e-03 |  rho  1.0000e-01\n",
      "kiter  7.00 | f = 1.6649e-02 | d(Z,X) 6.8301e-03 |  rho  1.0000e-01\n",
      "kiter  7.00 | f = 1.6503e-02 | d(Z,X) 8.3995e-03 |  rho  1.0000e-01\n",
      "kiter  7.00 | f = 1.6261e-02 | d(Z,X) 1.0093e-02 |  rho  1.0000e-01\n",
      "kiter  8.00 | f = 1.6426e-02 | d(Z,X) 6.8593e-03 |  rho  1.0000e-01\n",
      "kiter  8.00 | f = 1.6287e-02 | d(Z,X) 8.5292e-03 |  rho  1.0000e-01\n",
      "kiter  8.00 | f = 1.6074e-02 | d(Z,X) 1.0228e-02 |  rho  1.0000e-01\n",
      "kiter  9.00 | f = 1.6270e-02 | d(Z,X) 6.8617e-03 |  rho  1.0000e-01\n",
      "kiter  9.00 | f = 1.6140e-02 | d(Z,X) 8.6153e-03 |  rho  1.0000e-01\n",
      "kiter  9.00 | f = 1.5953e-02 | d(Z,X) 1.0327e-02 |  rho  1.0000e-01\n",
      "kiter  10.00 | f = 1.6178e-02 | d(Z,X) 6.8583e-03 |  rho  1.0000e-01\n",
      "kiter  10.00 | f = 1.6057e-02 | d(Z,X) 8.6525e-03 |  rho  1.0000e-01\n",
      "kiter  10.00 | f = 1.5884e-02 | d(Z,X) 1.0428e-02 |  rho  1.0000e-01\n",
      "kiter  11.00 | f = 1.6112e-02 | d(Z,X) 2.4987e-02 |  rho  1.0000e-01\n",
      "kiter  11.00 | f = 1.6049e-02 | d(Z,X) 8.8311e-03 |  rho  1.0000e-01\n",
      "kiter  11.00 | f = 1.5853e-02 | d(Z,X) 1.0584e-02 |  rho  1.0000e-01\n",
      "kiter  12.00 | f = 1.0962e-02 | d(Z,X) 1.5668e-02 |  rho  1.0000e-01\n",
      "kiter  12.00 | f = 8.6817e-03 | d(Z,X) 1.0940e-02 |  rho  1.0000e-01\n",
      "kiter  12.00 | f = 4.3743e-04 | d(Z,X) 2.8316e-03 |  rho  1.0000e-01\n",
      "kiter  13.00 | f = 3.8750e-06 | d(Z,X) 2.9803e-04 |  rho  1.0000e-01\n",
      "kiter  13.00 | f = 2.8821e-06 | d(Z,X) 2.0216e-04 |  rho  1.0000e-01\n",
      "kiter  13.00 | f = 1.1147e-07 | d(Z,X) 7.2546e-05 |  rho  1.0000e-01\n"
     ]
    }
   ],
   "source": [
    "maxoutiters = 100\n",
    "rho = 1e-1\n",
    "maxiters = 10\n",
    "min_rho_stable = rho\n",
    "Y_hat, err = solver(Y,R,Y_hat,rho,maxoutiters,maxiters,min_rho_stable)\n"
   ]
  },
  {
   "cell_type": "code",
   "execution_count": 44,
   "metadata": {},
   "outputs": [
    {
     "data": {
      "text/plain": [
       "[<matplotlib.lines.Line2D at 0x26911352190>]"
      ]
     },
     "execution_count": 44,
     "metadata": {},
     "output_type": "execute_result"
    },
    {
     "data": {
      "image/png": "[encoded data removed]",
      "text/plain": [
       "<Figure size 640x480 with 1 Axes>"
      ]
     },
     "metadata": {},
     "output_type": "display_data"
    }
   ],
   "source": [
    "plt.plot(np.array(err).flatten())"
   ]
  },
  {
   "cell_type": "code",
   "execution_count": 27,
   "metadata": {},
   "outputs": [
    {
     "data": {
      "text/plain": [
       "array([31.22960657, 30.34443745, 33.24225549, 34.84061653, 31.69649694,\n",
       "       27.49480708, 35.67619521, 26.35622352, 30.57895136, 33.00660268])"
      ]
     },
     "execution_count": 27,
     "metadata": {},
     "output_type": "execute_result"
    }
   ],
   "source": [
    "Y_hat.weights"
   ]
  },
  {
   "cell_type": "code",
   "execution_count": 25,
   "metadata": {},
   "outputs": [],
   "source": [
    "\n",
    "from tensorly.decomposition import parafac\n",
    "from tensorly.cp_tensor import KruskalTensor"
   ]
  },
  {
   "cell_type": "code",
   "execution_count": 48,
   "metadata": {},
   "outputs": [
    {
     "name": "stdout",
     "output_type": "stream",
     "text": [
      "reconstruction error=0.7965803918762276\n",
      "iteration 1, reconstruction error: 0.5679265487905115, decrease = 0.22865384308571612, unnormalized = 450.3892471443647\n",
      "iteration 2, reconstruction error: 0.4250957505482563, decrease = 0.1428307982422552, unnormalized = 337.11851552183776\n",
      "iteration 3, reconstruction error: 0.2939805686164325, decrease = 0.1311151819318238, unnormalized = 233.13875228443874\n",
      "iteration 4, reconstruction error: 0.20809761420805534, decrease = 0.08588295440837718, unnormalized = 165.03001663737396\n",
      "iteration 5, reconstruction error: 0.01414167635403195, decrease = 0.19395593785402337, unnormalized = 11.214934360818397\n",
      "iteration 6, reconstruction error: 0.001139652327743728, decrease = 0.013002024026288223, unnormalized = 0.9037914409740939\n",
      "iteration 7, reconstruction error: 0.0001572185156591511, decrease = 0.000982433812084577, unnormalized = 0.12468078672440924\n",
      "iteration 8, reconstruction error: 2.2756214605588166e-05, decrease = 0.00013446230105356295, unnormalized = 0.01804661956003576\n",
      "iteration 9, reconstruction error: 3.318753611679585e-06, decrease = 1.943746099390858e-05, unnormalized = 0.0026319089040744317\n",
      "iteration 10, reconstruction error: 4.878987590887168e-07, decrease = 2.830854852590868e-06, unnormalized = 0.0003869238993257436\n",
      "iteration 11, reconstruction error: 6.6652255447292e-08, decrease = 4.212465036414248e-07, unnormalized = 5.285799583645255e-05\n",
      "iteration 12, reconstruction error: 1.924084881229487e-08, decrease = 4.741140663499714e-08, unnormalized = 1.52587890625e-05\n",
      "iteration 13, reconstruction error: 0.0, decrease = 1.924084881229487e-08, unnormalized = 0.0\n",
      "iteration 14, reconstruction error: 1.924084881229487e-08, decrease = -1.924084881229487e-08, unnormalized = 1.52587890625e-05\n",
      "iteration 15, reconstruction error: 0.0, decrease = 1.924084881229487e-08, unnormalized = 0.0\n",
      "iteration 16, reconstruction error: 1.924084881229487e-08, decrease = -1.924084881229487e-08, unnormalized = 1.52587890625e-05\n",
      "iteration 17, reconstruction error: 0.0, decrease = 1.924084881229487e-08, unnormalized = 0.0\n",
      "iteration 18, reconstruction error: 1.924084881229487e-08, decrease = -1.924084881229487e-08, unnormalized = 1.52587890625e-05\n",
      "iteration 19, reconstruction error: 1.924084881229487e-08, decrease = 0.0, unnormalized = 1.52587890625e-05\n",
      "PARAFAC converged after 19 iterations\n"
     ]
    }
   ],
   "source": [
    "Factor_cp = parafac(Y,R,maxoutiters*3, init = 'svd',verbose=1)\n"
   ]
  },
  {
   "cell_type": "code",
   "execution_count": 52,
   "metadata": {},
   "outputs": [
    {
     "name": "stdout",
     "output_type": "stream",
     "text": [
      "3.8388446049804717e-28\n",
      "155691.74914648655\n"
     ]
    }
   ],
   "source": [
    "Y_als = CPTensor(Factor_cp)\n",
    "Y_als = cp_to_tensor(Y_als) \n",
    "err_als = np.linalg.norm((Y_als-Y).reshape(-1))/np.linalg.norm(Y.reshape(-1))\n",
    "print(err_als**2)\n",
    "\n",
    "Y_als = CPTensor(Factor_cp)\n",
    "Y_als = cp_normalize(Y_als)\n",
    "ss_als = cp_sensitivity(Y_als)\n",
    "print(ss_als)\n"
   ]
  },
  {
   "cell_type": "code",
   "execution_count": 53,
   "metadata": {},
   "outputs": [
    {
     "name": "stdout",
     "output_type": "stream",
     "text": [
      "1.3378192649181546e-07\n",
      "155690.0972381194\n"
     ]
    }
   ],
   "source": [
    "Y2cu = cp_to_tensor(Y_hat) \n",
    "err_2cu = np.linalg.norm((Y2cu-Y).reshape(-1))/np.linalg.norm(Y.reshape(-1))\n",
    "print(err_2cu**2) \n",
    "\n",
    "Y_hat = cp_normalize(Y_hat)\n",
    "ss_2cup = cp_sensitivity(Y_hat)\n",
    "print(ss_2cup)"
   ]
  }
 ],
 "metadata": {
  "kernelspec": {
   "display_name": "base",
   "language": "python",
   "name": "python3"
  },
  "language_info": {
   "codemirror_mode": {
    "name": "ipython",
    "version": 3
   },
   "file_extension": ".py",
   "mimetype": "text/x-python",
   "name": "python",
   "nbconvert_exporter": "python",
   "pygments_lexer": "ipython3",
   "version": "3.12.7"
  }
 },
 "nbformat": 4,
 "nbformat_minor": 4
}
